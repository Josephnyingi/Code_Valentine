{
  "nbformat": 4,
  "nbformat_minor": 0,
  "metadata": {
    "colab": {
      "provenance": [],
      "authorship_tag": "ABX9TyPkvKg17fOUGnI536Xo5AXD",
      "include_colab_link": true
    },
    "kernelspec": {
      "name": "python3",
      "display_name": "Python 3"
    },
    "language_info": {
      "name": "python"
    }
  },
  "cells": [
    {
      "cell_type": "markdown",
      "metadata": {
        "id": "view-in-github",
        "colab_type": "text"
      },
      "source": [
        "<a href=\"https://colab.research.google.com/github/Josephnyingi/Code_Valentine/blob/main/Joseph_Valentine_love.ipynb\" target=\"_parent\"><img src=\"https://colab.research.google.com/assets/colab-badge.svg\" alt=\"Open In Colab\"/></a>"
      ]
    },
    {
      "cell_type": "code",
      "source": [
        "import numpy as np \n",
        "\n",
        "# Importing numpy library\n",
        "import matplotlib.pyplot as plt \n",
        "\n",
        "# Importing matplotlib library\n",
        "x = np.linspace(-2, 2, 201) \n",
        "\n",
        "# Creating an array of values between -2 and 2 with 201 elements\n",
        "y = np.linspace(-2.0, 2.0, 201) \n",
        "\n",
        "# Creating an array of values between -2.0 and 2.0 with 201 elements\n",
        "X, Y = np.meshgrid(x, y) \n",
        "\n",
        "# Creating a mesh grid using x and y arrays\n",
        "eq = np.power(X, 2) + np.power(Y - np.cbrt(np.power(X, 2)), 2) - 1 \n",
        "\n",
        "# Calculating equation for plotting\n",
        "plt.contour(X, Y, eq, levels=np.arange(-1, 1, 0.001), colors=\"red\") \n",
        "\n",
        "# Plotting contour with levels between -1 and 1 with step size 0.001 and color red\n",
        "plt.arrow(-1, -0.5, 2.5, 2, width=0.05) \n",
        "\n",
        "# Adding an arrow to the plot\n",
        "plt.text(-1.75, -0.75, 'Joseph') \n",
        "\n",
        "# Adding text to the plot\n",
        "plt.text(1.5, 1.75, 'You') \n",
        "\n",
        "# Adding text to the plot\n",
        "plt.xlabel('X') \n",
        "\n",
        "# Setting x-axis label\n",
        "plt.xlim(-3, 3) \n",
        "\n",
        "# Setting x-axis limits\n",
        "plt.ylabel('Y') \n",
        "\n",
        "# Setting y-axis label\n",
        "plt.ylim(-3, 3) \n",
        "\n",
        "# Setting y-axis limits\n",
        "plt.grid(True, linestyle='--', linewidth=0.5, color='gray') \n",
        "\n",
        "# Adding grid to the plot\n",
        "plt.title('Happy Valentines from Joseph', fontsize=16) \n",
        "\n",
        "# Setting plot title and font size\n",
        "plt.tight_layout() \n",
        "\n",
        "# Adjusting plot layout to prevent overlapping of elements\n",
        "plt.show() \n",
        "\n",
        "# Showing the plot\n",
        "plt.clf() \n",
        "\n",
        "# Clearing current figure\n",
        "plt.cla() \n",
        "\n",
        "# Clearing current axis\n",
        "plt.close() \n",
        "\n",
        "# Closing the plot\n",
        "\n",
        "\n"
      ],
      "metadata": {
        "colab": {
          "base_uri": "https://localhost:8080/",
          "height": 297
        },
        "id": "QMpS_g6TPWqo",
        "outputId": "8e3404b7-1ae5-4e92-bc56-f77b75cf8342"
      },
      "execution_count": 3,
      "outputs": [
        {
          "output_type": "display_data",
          "data": {
            "text/plain": [
              "<Figure size 432x288 with 1 Axes>"
            ],
            "image/png": "[encoded data removed]"
          },
          "metadata": {
            "needs_background": "light"
          }
        }
      ]
    }
  ]
}